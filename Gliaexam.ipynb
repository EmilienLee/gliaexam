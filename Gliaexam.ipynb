{
 "cells": [
  {
   "cell_type": "code",
   "execution_count": 5,
   "metadata": {},
   "outputs": [],
   "source": [
    "import pickle\n",
    "import requests\n",
    "import re\n",
    "from bs4 import BeautifulSoup\n",
    "import pandas as pd\n",
    "import csv\n",
    "import numpy as np\n",
    "import lxml\n",
    "import time"
   ]
  },
  {
   "cell_type": "markdown",
   "metadata": {},
   "source": [
    "Part 1\n",
    "Counting"
   ]
  },
  {
   "cell_type": "code",
   "execution_count": 43,
   "metadata": {},
   "outputs": [],
   "source": [
    "urls = [\n",
    "\"http://www.google.com/a.txt\",\n",
    "\"http://www.google.com.tw/a.txt\",\n",
    "\"http://www.google.com/download/c.jpg\",\n",
    "\"http://www.google.co.jp/a.txt\",\n",
    "\"http://www.google.com/b.txt\",\n",
    "\"https://facebook.com/movie/b.txt\",\n",
    "\"http://yahoo.com/123/000/c.jpg\",\n",
    "\"http://gliacloud.com/haha.png\",\n",
    "]\n",
    "\n",
    "x=re.compile('a.txt')\n",
    "y=re.compile('b.txt')\n",
    "z=re.compile('c.jpg')\n",
    "\n",
    "def counts(urls):\n",
    "    a=0\n",
    "    b=0\n",
    "    c=0\n",
    "    for i in urls:\n",
    "        if  re.search(x,i) != None:\n",
    "            a+=1\n",
    "        elif re.search(y,i) != None:\n",
    "            b+=1\n",
    "        elif re.search(z,i) != None:\n",
    "            c+=1\n",
    "        else:\n",
    "            pass\n",
    "    data1={'a.txt',a}\n",
    "    data2={'b.txt',b}\n",
    "    data3={'c.jpg',c}\n",
    "    return  data1, data2, data3\n"
   ]
  },
  {
   "cell_type": "code",
   "execution_count": 44,
   "metadata": {},
   "outputs": [
    {
     "data": {
      "text/plain": [
       "({3, 'a.txt'}, {2, 'b.txt'}, {2, 'c.jpg'})"
      ]
     },
     "execution_count": 44,
     "metadata": {},
     "output_type": "execute_result"
    }
   ],
   "source": [
    "counts(urls)"
   ]
  },
  {
   "cell_type": "markdown",
   "metadata": {},
   "source": [
    "Multiples of 3 and 5."
   ]
  },
  {
   "cell_type": "code",
   "execution_count": 97,
   "metadata": {},
   "outputs": [
    {
     "name": "stdout",
     "output_type": "stream",
     "text": [
      "233168\n"
     ]
    }
   ],
   "source": [
    "total_sum = 0\n",
    "for i in range(1000):\n",
    "    if (i%3 == 0 or i%5 == 0):\n",
    "        total_sum += i\n",
    "print(total_sum) "
   ]
  },
  {
   "cell_type": "markdown",
   "metadata": {},
   "source": [
    "Part 2\n",
    "爬蟲"
   ]
  },
  {
   "cell_type": "code",
   "execution_count": 93,
   "metadata": {},
   "outputs": [],
   "source": [
    "soup = BeautifulSoup(requests.get('https://www.ptt.cc/bbs/Palmar_Drama/M.1525261932.A.7A9.html').text, 'lxml')\n",
    "soup1 = soup.select(\"div.article-metaline\")\n",
    "data={}\n",
    "data['title']=soup1[0].select_one(\"span.article-meta-value\").text \n",
    "data['author']=soup1[1].select_one(\"span.article-meta-value\").text\n",
    "data['date']=soup1[2].select_one(\"span.article-meta-value\").text\n",
    "main_content = soup.find(id=\"main-content\")\n",
    "metas = main_content.select('div.article-metaline')\n",
    "filtered = [ v for v in main_content.stripped_strings if v[0] not in [u'※',u'◆'] and  v[:2] not in [u'--'] ]\n",
    "content=re.sub('\\n',' ', filtered[8])\n",
    "data['board']=filtered[3]\n",
    "data['content']=content\n",
    "data_list.append(data)  \n",
    "\n"
   ]
  },
  {
   "cell_type": "code",
   "execution_count": 94,
   "metadata": {},
   "outputs": [
    {
     "data": {
      "text/plain": [
       "{'title': 'wwwson1256 (覺醒青年)',\n",
       " 'author': '[霹靂] 犴妖神的閒聊',\n",
       " 'date': 'Wed May  2 19:52:09 2018',\n",
       " 'board': 'Palmar_Drama',\n",
       " 'content': '當初是看到六禍蒼龍才想起這隻  造型也都是紫色系、神韻有點像  這隻的造型很有特色，當初我國小對這隻很喜歡，覺得後面的擋板頗帥  不過似乎沒什麼人討論  這隻在霹靂兵燹的等級跟經天子不相上下  跟經天子合作打一頁書也非常熱血  不過我看不太懂的是，為什麼有一幕妖天壁突然被打破....  還有妖后怎麼跟犴妖神變成一夥的  最後覺得有點慘的是犴妖神拿了天嶽那把刀等級就下跌  感覺他的掌功、內力強了不少Orz   --'}"
      ]
     },
     "execution_count": 94,
     "metadata": {},
     "output_type": "execute_result"
    }
   ],
   "source": [
    "data"
   ]
  },
  {
   "cell_type": "code",
   "execution_count": null,
   "metadata": {},
   "outputs": [],
   "source": []
  }
 ],
 "metadata": {
  "kernelspec": {
   "display_name": "Python 3",
   "language": "python",
   "name": "python3"
  },
  "language_info": {
   "codemirror_mode": {
    "name": "ipython",
    "version": 3
   },
   "file_extension": ".py",
   "mimetype": "text/x-python",
   "name": "python",
   "nbconvert_exporter": "python",
   "pygments_lexer": "ipython3",
   "version": "3.6.5"
  }
 },
 "nbformat": 4,
 "nbformat_minor": 2
}
